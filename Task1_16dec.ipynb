{
  "nbformat": 4,
  "nbformat_minor": 0,
  "metadata": {
    "colab": {
      "provenance": []
    },
    "kernelspec": {
      "name": "python3",
      "display_name": "Python 3"
    },
    "language_info": {
      "name": "python"
    }
  },
  "cells": [
    {
      "cell_type": "code",
      "execution_count": null,
      "metadata": {
        "colab": {
          "base_uri": "https://localhost:8080/"
        },
        "id": "BihJtx4q4YBN",
        "outputId": "31d1c940-0159-467e-ebd5-f73cd29a54ca"
      },
      "outputs": [
        {
          "output_type": "stream",
          "name": "stderr",
          "text": [
            "[nltk_data] Downloading package brown to /root/nltk_data...\n",
            "[nltk_data]   Unzipping corpora/brown.zip.\n"
          ]
        },
        {
          "output_type": "execute_result",
          "data": {
            "text/plain": [
              "True"
            ]
          },
          "metadata": {},
          "execution_count": 18
        }
      ],
      "source": [
        "import nltk\n",
        "nltk.download('brown')\n"
      ]
    },
    {
      "cell_type": "code",
      "source": [
        "from nltk.book import*"
      ],
      "metadata": {
        "colab": {
          "base_uri": "https://localhost:8080/"
        },
        "id": "FMmjGLWP4fHH",
        "outputId": "1b5e106f-7053-42f8-b15f-3b0f6db9ab08"
      },
      "execution_count": null,
      "outputs": [
        {
          "output_type": "stream",
          "name": "stdout",
          "text": [
            "*** Introductory Examples for the NLTK Book ***\n",
            "Loading text1, ..., text9 and sent1, ..., sent9\n",
            "Type the name of the text or sentence to view it.\n",
            "Type: 'texts()' or 'sents()' to list the materials.\n",
            "text1: Moby Dick by Herman Melville 1851\n",
            "text2: Sense and Sensibility by Jane Austen 1811\n",
            "text3: The Book of Genesis\n",
            "text4: Inaugural Address Corpus\n",
            "text5: Chat Corpus\n",
            "text6: Monty Python and the Holy Grail\n",
            "text7: Wall Street Journal\n",
            "text8: Personals Corpus\n",
            "text9: The Man Who Was Thursday by G . K . Chesterton 1908\n"
          ]
        }
      ]
    },
    {
      "cell_type": "code",
      "source": [
        "from nltk.corpus import brown"
      ],
      "metadata": {
        "id": "lQ1h8ZwI5Dxq"
      },
      "execution_count": null,
      "outputs": []
    },
    {
      "cell_type": "code",
      "source": [
        "brown.categories"
      ],
      "metadata": {
        "colab": {
          "base_uri": "https://localhost:8080/"
        },
        "id": "8Hqbrh4R5WzN",
        "outputId": "b418f045-0894-4e60-e76a-c2b22222ce22"
      },
      "execution_count": null,
      "outputs": [
        {
          "output_type": "execute_result",
          "data": {
            "text/plain": [
              "<bound method CategorizedCorpusReader.categories of <CategorizedTaggedCorpusReader in '/root/nltk_data/corpora/brown'>>"
            ]
          },
          "metadata": {},
          "execution_count": 20
        }
      ]
    },
    {
      "cell_type": "code",
      "source": [
        "from nltk.corpus import inaugural"
      ],
      "metadata": {
        "id": "NNLWnDnt5tJ_"
      },
      "execution_count": null,
      "outputs": []
    },
    {
      "cell_type": "code",
      "source": [
        "inaugural.fileids()"
      ],
      "metadata": {
        "colab": {
          "base_uri": "https://localhost:8080/"
        },
        "id": "MZWMAgOX5zUX",
        "outputId": "a531e638-b72b-4414-bd12-62df6bcbb2f0"
      },
      "execution_count": null,
      "outputs": [
        {
          "output_type": "execute_result",
          "data": {
            "text/plain": [
              "['1789-Washington.txt',\n",
              " '1793-Washington.txt',\n",
              " '1797-Adams.txt',\n",
              " '1801-Jefferson.txt',\n",
              " '1805-Jefferson.txt',\n",
              " '1809-Madison.txt',\n",
              " '1813-Madison.txt',\n",
              " '1817-Monroe.txt',\n",
              " '1821-Monroe.txt',\n",
              " '1825-Adams.txt',\n",
              " '1829-Jackson.txt',\n",
              " '1833-Jackson.txt',\n",
              " '1837-VanBuren.txt',\n",
              " '1841-Harrison.txt',\n",
              " '1845-Polk.txt',\n",
              " '1849-Taylor.txt',\n",
              " '1853-Pierce.txt',\n",
              " '1857-Buchanan.txt',\n",
              " '1861-Lincoln.txt',\n",
              " '1865-Lincoln.txt',\n",
              " '1869-Grant.txt',\n",
              " '1873-Grant.txt',\n",
              " '1877-Hayes.txt',\n",
              " '1881-Garfield.txt',\n",
              " '1885-Cleveland.txt',\n",
              " '1889-Harrison.txt',\n",
              " '1893-Cleveland.txt',\n",
              " '1897-McKinley.txt',\n",
              " '1901-McKinley.txt',\n",
              " '1905-Roosevelt.txt',\n",
              " '1909-Taft.txt',\n",
              " '1913-Wilson.txt',\n",
              " '1917-Wilson.txt',\n",
              " '1921-Harding.txt',\n",
              " '1925-Coolidge.txt',\n",
              " '1929-Hoover.txt',\n",
              " '1933-Roosevelt.txt',\n",
              " '1937-Roosevelt.txt',\n",
              " '1941-Roosevelt.txt',\n",
              " '1945-Roosevelt.txt',\n",
              " '1949-Truman.txt',\n",
              " '1953-Eisenhower.txt',\n",
              " '1957-Eisenhower.txt',\n",
              " '1961-Kennedy.txt',\n",
              " '1965-Johnson.txt',\n",
              " '1969-Nixon.txt',\n",
              " '1973-Nixon.txt',\n",
              " '1977-Carter.txt',\n",
              " '1981-Reagan.txt',\n",
              " '1985-Reagan.txt',\n",
              " '1989-Bush.txt',\n",
              " '1993-Clinton.txt',\n",
              " '1997-Clinton.txt',\n",
              " '2001-Bush.txt',\n",
              " '2005-Bush.txt',\n",
              " '2009-Obama.txt',\n",
              " '2013-Obama.txt',\n",
              " '2017-Trump.txt',\n",
              " '2021-Biden.txt']"
            ]
          },
          "metadata": {},
          "execution_count": 22
        }
      ]
    },
    {
      "cell_type": "code",
      "source": [
        "inaugural.words(fileids = '2017-Trump.txt' )[ :100]"
      ],
      "metadata": {
        "colab": {
          "base_uri": "https://localhost:8080/"
        },
        "id": "ByXmTUQt57-f",
        "outputId": "21de2686-aba2-45f4-fbdc-c16bbf77a8ae"
      },
      "execution_count": null,
      "outputs": [
        {
          "output_type": "execute_result",
          "data": {
            "text/plain": [
              "['Chief',\n",
              " 'Justice',\n",
              " 'Roberts',\n",
              " ',',\n",
              " 'President',\n",
              " 'Carter',\n",
              " ',',\n",
              " 'President',\n",
              " 'Clinton',\n",
              " ',',\n",
              " 'President',\n",
              " 'Bush',\n",
              " ',',\n",
              " 'President',\n",
              " 'Obama',\n",
              " ',',\n",
              " 'fellow',\n",
              " 'Americans',\n",
              " ',',\n",
              " 'and',\n",
              " 'people',\n",
              " 'of',\n",
              " 'the',\n",
              " 'world',\n",
              " ':',\n",
              " 'Thank',\n",
              " 'you',\n",
              " '.',\n",
              " 'We',\n",
              " ',',\n",
              " 'the',\n",
              " 'citizens',\n",
              " 'of',\n",
              " 'America',\n",
              " ',',\n",
              " 'are',\n",
              " 'now',\n",
              " 'joined',\n",
              " 'in',\n",
              " 'a',\n",
              " 'great',\n",
              " 'national',\n",
              " 'effort',\n",
              " 'to',\n",
              " 'rebuild',\n",
              " 'our',\n",
              " 'country',\n",
              " 'and',\n",
              " 'restore',\n",
              " 'its',\n",
              " 'promise',\n",
              " 'for',\n",
              " 'all',\n",
              " 'of',\n",
              " 'our',\n",
              " 'people',\n",
              " '.',\n",
              " 'Together',\n",
              " ',',\n",
              " 'we',\n",
              " 'will',\n",
              " 'determine',\n",
              " 'the',\n",
              " 'course',\n",
              " 'of',\n",
              " 'America',\n",
              " 'and',\n",
              " 'the',\n",
              " 'world',\n",
              " 'for',\n",
              " 'many',\n",
              " ',',\n",
              " 'many',\n",
              " 'years',\n",
              " 'to',\n",
              " 'come',\n",
              " '.',\n",
              " 'We',\n",
              " 'will',\n",
              " 'face',\n",
              " 'challenges',\n",
              " ',',\n",
              " 'we',\n",
              " 'will',\n",
              " 'confront',\n",
              " 'hardships',\n",
              " ',',\n",
              " 'but',\n",
              " 'we',\n",
              " 'will',\n",
              " 'get',\n",
              " 'the',\n",
              " 'job',\n",
              " 'done',\n",
              " '.',\n",
              " 'Every',\n",
              " '4',\n",
              " 'years',\n",
              " ',',\n",
              " 'we']"
            ]
          },
          "metadata": {},
          "execution_count": 24
        }
      ]
    }
  ]
}