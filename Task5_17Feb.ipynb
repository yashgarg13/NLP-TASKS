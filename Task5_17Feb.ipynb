{
  "nbformat": 4,
  "nbformat_minor": 0,
  "metadata": {
    "colab": {
      "provenance": []
    },
    "kernelspec": {
      "name": "python3",
      "display_name": "Python 3"
    },
    "language_info": {
      "name": "python"
    }
  },
  "cells": [
    {
      "cell_type": "markdown",
      "source": [
        "TASK 05. VECTORIZATION"
      ],
      "metadata": {
        "id": "8ogcr6TFN-IL"
      }
    },
    {
      "cell_type": "code",
      "execution_count": 25,
      "metadata": {
        "id": "wciuiRGwDAre"
      },
      "outputs": [],
      "source": [
        "import sklearn\n",
        "from sklearn.feature_extraction.text import CountVectorizer\n",
        "vect = CountVectorizer(binary = True)"
      ]
    },
    {
      "cell_type": "code",
      "source": [
        "#corpus with 3 documents\n",
        "corpus = [\"NLP is awesome\",\"The NLP class is scheduled in room number 626 SJT\",\"I want to start an NLP company\"]\n",
        "vect.fit(corpus)\n"
      ],
      "metadata": {
        "colab": {
          "base_uri": "https://localhost:8080/"
        },
        "id": "pW5ftAnKPLj-",
        "outputId": "201cbb88-2d90-42ae-ffb0-8bf653892052"
      },
      "execution_count": 26,
      "outputs": [
        {
          "output_type": "execute_result",
          "data": {
            "text/plain": [
              "CountVectorizer(binary=True)"
            ]
          },
          "metadata": {},
          "execution_count": 26
        }
      ]
    },
    {
      "cell_type": "code",
      "source": [
        "vocab = vect.vocabulary_"
      ],
      "metadata": {
        "id": "4cH1OYMNPc9o"
      },
      "execution_count": 27,
      "outputs": []
    },
    {
      "cell_type": "code",
      "source": [
        "for key in vocab.keys():\n",
        "  print(\"{}:{}\".format(key,vocab[key]))"
      ],
      "metadata": {
        "colab": {
          "base_uri": "https://localhost:8080/"
        },
        "id": "U0P0IuXaPum0",
        "outputId": "a0fac079-0731-4b46-9065-2c88361b2a24"
      },
      "execution_count": 28,
      "outputs": [
        {
          "output_type": "stream",
          "name": "stdout",
          "text": [
            "nlp:7\n",
            "is:6\n",
            "awesome:2\n",
            "the:13\n",
            "class:3\n",
            "scheduled:10\n",
            "in:5\n",
            "room:9\n",
            "number:8\n",
            "626:0\n",
            "sjt:11\n",
            "want:15\n",
            "to:14\n",
            "start:12\n",
            "an:1\n",
            "company:4\n"
          ]
        }
      ]
    },
    {
      "cell_type": "code",
      "source": [
        "vect.transform([\"I have an awesome NLP company worth an awesome billion\"]).toarray()"
      ],
      "metadata": {
        "colab": {
          "base_uri": "https://localhost:8080/"
        },
        "id": "9blh6f3YQhmI",
        "outputId": "505d0c83-6b98-4f1d-d349-4afd7696b74f"
      },
      "execution_count": 29,
      "outputs": [
        {
          "output_type": "execute_result",
          "data": {
            "text/plain": [
              "array([[0, 1, 1, 0, 1, 0, 0, 1, 0, 0, 0, 0, 0, 0, 0, 0]])"
            ]
          },
          "metadata": {},
          "execution_count": 29
        }
      ]
    },
    {
      "cell_type": "code",
      "source": [
        "#When the two documents have angle of acute the documents are closer and highly plagarized.\n",
        "from sklearn.metrics.pairwise import cosine_similarity\n",
        "similarity = cosine_similarity(vect.transform([\"NLP is a awesome subject\"]).toarray(),vect.transform([\"NLP is an attractive career now\"]).toarray())\n",
        "print(similarity)"
      ],
      "metadata": {
        "colab": {
          "base_uri": "https://localhost:8080/"
        },
        "id": "eIxqrxRGRfZ7",
        "outputId": "a6340863-0f12-4495-dcd1-9a1fd2d0023e"
      },
      "execution_count": 30,
      "outputs": [
        {
          "output_type": "stream",
          "name": "stdout",
          "text": [
            "[[0.66666667]]\n"
          ]
        }
      ]
    },
    {
      "cell_type": "code",
      "source": [
        "vect.transform([\"NLP is an elective \"]).toarray()"
      ],
      "metadata": {
        "colab": {
          "base_uri": "https://localhost:8080/"
        },
        "id": "WTy7jlm-UFnD",
        "outputId": "04c9140e-a8a7-494a-dc1a-1dad91f23fd5"
      },
      "execution_count": 31,
      "outputs": [
        {
          "output_type": "execute_result",
          "data": {
            "text/plain": [
              "array([[0, 1, 0, 0, 0, 0, 1, 1, 0, 0, 0, 0, 0, 0, 0, 0]])"
            ]
          },
          "metadata": {},
          "execution_count": 31
        }
      ]
    },
    {
      "cell_type": "code",
      "source": [
        "vect.transform([\"NLP is an attractive career now\"]).toarray()"
      ],
      "metadata": {
        "colab": {
          "base_uri": "https://localhost:8080/"
        },
        "id": "pJSGNJEOVTB2",
        "outputId": "256e431c-55db-4196-e486-7b113ce30a9e"
      },
      "execution_count": 32,
      "outputs": [
        {
          "output_type": "execute_result",
          "data": {
            "text/plain": [
              "array([[0, 1, 0, 0, 0, 0, 1, 1, 0, 0, 0, 0, 0, 0, 0, 0]])"
            ]
          },
          "metadata": {},
          "execution_count": 32
        }
      ]
    }
  ]
}