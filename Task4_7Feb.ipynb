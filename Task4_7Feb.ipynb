{
  "cells": [
    {
      "cell_type": "markdown",
      "metadata": {
        "id": "gDxssq-EIQMZ"
      },
      "source": [
        "#TASK 4 - 3 FEB 2023"
      ]
    },
    {
      "cell_type": "code",
      "execution_count": 4,
      "metadata": {
        "id": "lT0pJRfMBBBU"
      },
      "outputs": [],
      "source": [
        "#web-scraping\n",
        "import urllib\n",
        "from urllib import response\n",
        "from urllib import request\n"
      ]
    },
    {
      "cell_type": "code",
      "execution_count": 6,
      "metadata": {
        "id": "UrrCCiWoJHi7"
      },
      "outputs": [],
      "source": [
        "url = \"https://www.gutenberg.org/files/1661/1661-0.txt\"\n",
        "response = request.urlopen(url)\n",
        "raw = response.read().decode('utf8')"
      ]
    },
    {
      "cell_type": "code",
      "execution_count": 8,
      "metadata": {
        "colab": {
          "base_uri": "https://localhost:8080/"
        },
        "id": "jf_CD9rgKO1C",
        "outputId": "ee568242-0a56-4834-e1b0-0fa73774c09e"
      },
      "outputs": [
        {
          "name": "stderr",
          "output_type": "stream",
          "text": [
            "[nltk_data] Downloading package punkt to /root/nltk_data...\n",
            "[nltk_data]   Unzipping tokenizers/punkt.zip.\n"
          ]
        }
      ],
      "source": [
        "import nltk\n",
        "nltk.download('punkt')\n",
        "from nltk.tokenize import word_tokenize\n",
        "tokens = word_tokenize(raw)"
      ]
    },
    {
      "cell_type": "code",
      "execution_count": 10,
      "metadata": {
        "colab": {
          "base_uri": "https://localhost:8080/"
        },
        "id": "OYT4z2ZHKuzm",
        "outputId": "03b56b93-9c1d-4ab8-d775-6e387ab8f9ae"
      },
      "outputs": [
        {
          "name": "stdout",
          "output_type": "stream",
          "text": [
            "['\\ufeffThe', 'Project', 'Gutenberg', 'eBook', 'of', 'The', 'Adventures', 'of', 'Sherlock', 'Holmes', ',', 'by', 'Arthur', 'Conan', 'Doyle', 'This', 'eBook', 'is', 'for', 'the', 'use', 'of', 'anyone', 'anywhere', 'in', 'the', 'United', 'States', 'and', 'most', 'other', 'parts', 'of', 'the', 'world', 'at', 'no', 'cost', 'and', 'with', 'almost', 'no', 'restrictions', 'whatsoever', '.', 'You', 'may', 'copy', 'it', ',', 'give', 'it', 'away', 'or', 're-use', 'it', 'under', 'the', 'terms', 'of', 'the', 'Project', 'Gutenberg', 'License', 'included', 'with', 'this', 'eBook', 'or', 'online', 'at', 'www.gutenberg.org', '.', 'If', 'you', 'are', 'not', 'located', 'in', 'the', 'United', 'States', ',', 'you', 'will', 'have', 'to', 'check', 'the', 'laws', 'of', 'the', 'country', 'where', 'you', 'are', 'located', 'before', 'using', 'this', 'eBook', '.', 'Title', ':', 'The', 'Adventures', 'of', 'Sherlock', 'Holmes', 'Author', ':', 'Arthur', 'Conan', 'Doyle', 'Release', 'Date', ':', 'November', '29', ',', '2002', '[', 'eBook', '#', '1661', ']', '[', 'Most', 'recently', 'updated', ':', 'May', '20', ',', '2019', ']', 'Language', ':', 'English', 'Character', 'set', 'encoding', ':', 'UTF-8', 'Produced', 'by', ':', 'an', 'anonymous', 'Project', 'Gutenberg', 'volunteer', 'and', 'Jose', 'Menendez', '*', '*', '*', 'START', 'OF', 'THE', 'PROJECT', 'GUTENBERG', 'EBOOK', 'THE', 'ADVENTURES', 'OF', 'SHERLOCK', 'HOLMES', '*', '*', '*', 'cover', 'The', 'Adventures', 'of', 'Sherlock', 'Holmes', 'by', 'Arthur', 'Conan', 'Doyle', 'Contents', 'I', '.', 'A', 'Scandal', 'in', 'Bohemia', 'II', '.', 'The', 'Red-Headed', 'League', 'III', '.', 'A', 'Case', 'of', 'Identity']\n"
          ]
        }
      ],
      "source": [
        "print(tokens[:200])"
      ]
    },
    {
      "cell_type": "code",
      "execution_count": null,
      "metadata": {
        "id": "NGiZIvbAMXI8"
      },
      "outputs": [],
      "source": [
        "#BeautifulSoup\n",
        "#preprocessing - RE to clean any html tags\n",
        "#PoS tagging\n",
        "#!!"
      ]
    },
    {
      "cell_type": "code",
      "execution_count": 25,
      "metadata": {
        "colab": {
          "base_uri": "https://localhost:8080/"
        },
        "id": "V-sQebZlMjRI",
        "outputId": "d700ed78-0b47-454a-f5fa-7cfbb3ddd76d"
      },
      "outputs": [
        {
          "name": "stdout",
          "output_type": "stream",
          "text": [
            "happi\n",
            "joyou\n",
            "cacti\n"
          ]
        }
      ],
      "source": [
        "#PorterStemmer\n",
        "import nltk\n",
        "from nltk.stem import PorterStemmer\n",
        "porter = PorterStemmer()\n",
        "print(porter.stem(\"happiness\"))\n",
        "print(porter.stem(\"joyous\"))\n",
        "print(porter.stem(\"cacti\"))\n"
      ]
    },
    {
      "cell_type": "code",
      "execution_count": 21,
      "metadata": {
        "colab": {
          "base_uri": "https://localhost:8080/"
        },
        "id": "F-2UAOW0NURc",
        "outputId": "cd64c0bd-eebd-4af4-e568-af824b2c2f36"
      },
      "outputs": [
        {
          "name": "stdout",
          "output_type": "stream",
          "text": [
            "happy\n",
            "joy\n",
            "cact\n"
          ]
        }
      ],
      "source": [
        "#Lancaster stemmer\n",
        "import nltk\n",
        "from nltk.stem import LancasterStemmer\n",
        "lancaster = LancasterStemmer()\n",
        "print(porter.stem(\"happiness\")) \n",
        "print(porter.stem(\"joyous\"))\n",
        "print(porter.stem(\"cacti\"))"
      ]
    },
    {
      "cell_type": "code",
      "execution_count": 22,
      "metadata": {
        "colab": {
          "base_uri": "https://localhost:8080/",
          "height": 35
        },
        "id": "CmVY5hjMNt7C",
        "outputId": "b4b43b08-024b-4163-86e0-f57228b3ebd4"
      },
      "outputs": [
        {
          "data": {
            "application/vnd.google.colaboratory.intrinsic+json": {
              "type": "string"
            },
            "text/plain": [
              "'walk'"
            ]
          },
          "execution_count": 22,
          "metadata": {},
          "output_type": "execute_result"
        }
      ],
      "source": [
        "#Regexp stemmer\n",
        "import nltk\n",
        "from nltk.stem import RegexpStemmer\n",
        "regexp = RegexpStemmer('ing')\n",
        "porter.stem('walking')\n"
      ]
    },
    {
      "cell_type": "code",
      "execution_count": 24,
      "metadata": {
        "colab": {
          "base_uri": "https://localhost:8080/"
        },
        "id": "ABHVgeI0OfbI",
        "outputId": "e982d72f-273d-4347-be63-05880999505d"
      },
      "outputs": [
        {
          "name": "stdout",
          "output_type": "stream",
          "text": [
            "mang\n",
            "parl\n"
          ]
        }
      ],
      "source": [
        "#snowball stemmer\n",
        "import nltk\n",
        "from nltk.stem import SnowballStemmer\n",
        "snowball = SnowballStemmer('french')\n",
        "print(snowball.stem('manges'))\n",
        "print(snowball.stem('parles'))"
      ]
    },
    {
      "cell_type": "code",
      "execution_count": 27,
      "metadata": {
        "colab": {
          "base_uri": "https://localhost:8080/"
        },
        "id": "V_Uk6a7zPUYo",
        "outputId": "155093fd-83d8-4de7-fd7d-e11ed21ecaf8"
      },
      "outputs": [
        {
          "name": "stdout",
          "output_type": "stream",
          "text": [
            "spricht\n",
            "isst\n"
          ]
        }
      ],
      "source": [
        "#german\n",
        "import nltk\n",
        "from nltk.stem import SnowballStemmer\n",
        "snowball = SnowballStemmer('german')\n",
        "print(snowball.stem('spricht'))\n",
        "print(snowball.stem('isst'))"
      ]
    },
    {
      "cell_type": "code",
      "execution_count": 35,
      "metadata": {
        "id": "hNxd33nBP7v9"
      },
      "outputs": [],
      "source": [
        "#from nltk.stem import PorterStemmer\n",
        "porter = PorterStemmer()\n",
        "text = \"\"\"I just wanted to send you a note of appreciation to thank you for helping me reach my goals today. I could not have done it without your support and advice. I am grateful that you took the time out of your day to help me. You're a one-of-a-kind boss!\"\"\"\n",
        "stemmed = [porter.stem(token) for token in text.split(\" \")]\n"
      ]
    },
    {
      "cell_type": "code",
      "execution_count": 32,
      "metadata": {
        "colab": {
          "base_uri": "https://localhost:8080/"
        },
        "id": "Qugzrt0rRJ9_",
        "outputId": "955d155f-cc02-4317-c37c-ec60ab5409df"
      },
      "outputs": [
        {
          "name": "stdout",
          "output_type": "stream",
          "text": [
            "['i', 'just', 'want', 'to', 'send', 'you', 'a', 'note', 'of', 'appreci', 'to', 'thank', 'you', 'for', 'help', 'me', 'reach', 'my', 'goal', 'today.', 'i', 'could', 'not', 'have', 'done', 'it', 'without', 'your', 'support', 'and', 'advice.', 'i', 'am', 'grate', 'that', 'you', 'took', 'the', 'time', 'out', 'of', 'your', 'day', 'to', 'help', 'me.', \"you'r\", 'a', 'one-of-a-kind', 'boss!']\n"
          ]
        }
      ],
      "source": [
        "print(stemmed)"
      ]
    },
    {
      "cell_type": "code",
      "execution_count": 34,
      "metadata": {
        "colab": {
          "base_uri": "https://localhost:8080/"
        },
        "id": "RtPpwD4BRdxB",
        "outputId": "06d7a19e-5488-4ce5-8c7b-a929361b45a0"
      },
      "outputs": [
        {
          "name": "stdout",
          "output_type": "stream",
          "text": [
            "['govern', 'at', 'the', 'cent', 'is', 'us', 'common', \"people's\", 'money', 'to', 'support', 'their', 'closest', 'friends.', 'congress', 'party', 'has', 'decid', 'to', 'hav', 'nationwid', 'agit', 'across', 'district', 'of', 'the', 'country', 'in', 'front', 'of', 'lic', 'and', 'sbi', 'off', 'on', 'monday,']\n"
          ]
        }
      ],
      "source": [
        "lancaster = LancasterStemmer()\n",
        "text = \"\"\"Government at the Centre is using common people's money to support their closest friends. Congress party has decided to have nationwide agitation across districts of the country in front of LIC and SBI offices on Monday,\"\"\"\n",
        "lancasterstemmed = [lancaster.stem(token) for token in text.split(\" \")]\n",
        "print(lancasterstemmed)"
      ]
    },
    {
      "cell_type": "code",
      "execution_count": 42,
      "metadata": {
        "colab": {
          "base_uri": "https://localhost:8080/"
        },
        "id": "cxhs6rpDSP86",
        "outputId": "fcb36d50-a921-432f-a004-f3c7a7aa8037"
      },
      "outputs": [
        {
          "name": "stderr",
          "output_type": "stream",
          "text": [
            "[nltk_data] Downloading package wordnet to /root/nltk_data...\n",
            "[nltk_data]   Package wordnet is already up-to-date!\n",
            "[nltk_data] Downloading package omw-1.4 to /root/nltk_data...\n",
            "[nltk_data]   Package omw-1.4 is already up-to-date!\n"
          ]
        }
      ],
      "source": [
        "#lemmatization\n",
        "import nltk\n",
        "nltk.download('wordnet')\n",
        "nltk.download('omw-1.4')\n",
        "from nltk.stem import WordNetLemmatizer\n",
        "lemma = WordNetLemmatizer()"
      ]
    },
    {
      "cell_type": "code",
      "execution_count": 49,
      "metadata": {
        "colab": {
          "base_uri": "https://localhost:8080/"
        },
        "id": "wLVTExP4S9qA",
        "outputId": "097e70ad-7e77-4bf7-b64a-282f2147abe3"
      },
      "outputs": [
        {
          "name": "stdout",
          "output_type": "stream",
          "text": [
            "am\n",
            "mouse\n",
            "be\n",
            "better\n"
          ]
        }
      ],
      "source": [
        "print(lemma.lemmatize(\"am\"))\n",
        "print(lemma.lemmatize('mice'))\n",
        "print(lemma.lemmatize(\"am\",pos='v'))\n",
        "print(lemma.lemmatize(\"better\",pos='v'))\n"
      ]
    },
    {
      "cell_type": "code",
      "execution_count": null,
      "metadata": {
        "id": "ultaV0z5TkQE"
      },
      "outputs": [],
      "source": []
    }
  ],
  "metadata": {
    "colab": {
      "provenance": []
    },
    "kernelspec": {
      "display_name": "Python 3",
      "language": "python",
      "name": "python3"
    },
    "language_info": {
      "name": "python",
      "version": "3.9.13 (v3.9.13:6de2ca5339, May 17 2022, 11:37:23) \n[Clang 13.0.0 (clang-1300.0.29.30)]"
    },
    "vscode": {
      "interpreter": {
        "hash": "aee8b7b246df8f9039afb4144a1f6fd8d2ca17a180786b69acc140d282b71a49"
      }
    }
  },
  "nbformat": 4,
  "nbformat_minor": 0
}
